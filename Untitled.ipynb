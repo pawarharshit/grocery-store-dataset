{
 "cells": [
  {
   "cell_type": "code",
   "execution_count": 1,
   "metadata": {},
   "outputs": [],
   "source": [
    "import os\n",
    "import numpy as np\n",
    "import tensorflow as tf\n",
    "\n",
    "import tensorflow_datasets as tfds\n",
    "from grocery import Grocery\n",
    "\n",
    "builder = Grocery()"
   ]
  },
  {
   "cell_type": "code",
   "execution_count": 2,
   "metadata": {},
   "outputs": [],
   "source": [
    "dl_config = tfds.download.DownloadConfig(register_checksums=True)"
   ]
  },
  {
   "cell_type": "code",
   "execution_count": 3,
   "metadata": {},
   "outputs": [
    {
     "name": "stdout",
     "output_type": "stream",
     "text": [
      "\u001b[1mDownloading and preparing dataset grocery/0.1.0 (download: Unknown size, generated: Unknown size, total: Unknown size) to C:\\Users\\Lenovo\\tensorflow_datasets\\grocery\\0.1.0...\u001b[0m\n"
     ]
    },
    {
     "data": {
      "application/vnd.jupyter.widget-view+json": {
       "model_id": "c26c4340b55d4d92a387603ac9309e25",
       "version_major": 2,
       "version_minor": 0
      },
      "text/plain": [
       "HBox(children=(FloatProgress(value=1.0, bar_style='info', description='Dl Completed...', layout=Layout(width='…"
      ]
     },
     "metadata": {},
     "output_type": "display_data"
    },
    {
     "data": {
      "application/vnd.jupyter.widget-view+json": {
       "model_id": "82a515d164ea431db3760575eaf75d8e",
       "version_major": 2,
       "version_minor": 0
      },
      "text/plain": [
       "HBox(children=(FloatProgress(value=1.0, bar_style='info', description='Dl Size...', layout=Layout(width='20px'…"
      ]
     },
     "metadata": {},
     "output_type": "display_data"
    },
    {
     "data": {
      "application/vnd.jupyter.widget-view+json": {
       "model_id": "3bcbb7007d76453cb77a8710e4311256",
       "version_major": 2,
       "version_minor": 0
      },
      "text/plain": [
       "HBox(children=(FloatProgress(value=1.0, bar_style='info', description='Extraction completed...', layout=Layout…"
      ]
     },
     "metadata": {},
     "output_type": "display_data"
    },
    {
     "name": "stdout",
     "output_type": "stream",
     "text": [
      "\n",
      "\n",
      "\n",
      "\n",
      "\n",
      "\n"
     ]
    },
    {
     "data": {
      "application/vnd.jupyter.widget-view+json": {
       "model_id": "44cc7b6692d9408bb286b57a5dbf7fa9",
       "version_major": 2,
       "version_minor": 0
      },
      "text/plain": [
       "HBox(children=(FloatProgress(value=1.0, bar_style='info', layout=Layout(width='20px'), max=1.0), HTML(value=''…"
      ]
     },
     "metadata": {},
     "output_type": "display_data"
    },
    {
     "name": "stdout",
     "output_type": "stream",
     "text": [
      "Shuffling and writing examples to C:\\Users\\Lenovo\\tensorflow_datasets\\grocery\\0.1.0.incompleteOGOF6G\\grocery-train.tfrecord\n"
     ]
    },
    {
     "data": {
      "application/vnd.jupyter.widget-view+json": {
       "model_id": "93ac1f04a3d740a4b39ddd0b79a05707",
       "version_major": 2,
       "version_minor": 0
      },
      "text/plain": [
       "HBox(children=(FloatProgress(value=0.0, max=2640.0), HTML(value='')))"
      ]
     },
     "metadata": {},
     "output_type": "display_data"
    },
    {
     "data": {
      "application/vnd.jupyter.widget-view+json": {
       "model_id": "fcdb40e77323423aa0c71815812857fa",
       "version_major": 2,
       "version_minor": 0
      },
      "text/plain": [
       "HBox(children=(FloatProgress(value=1.0, bar_style='info', layout=Layout(width='20px'), max=1.0), HTML(value=''…"
      ]
     },
     "metadata": {},
     "output_type": "display_data"
    },
    {
     "name": "stdout",
     "output_type": "stream",
     "text": [
      "Shuffling and writing examples to C:\\Users\\Lenovo\\tensorflow_datasets\\grocery\\0.1.0.incompleteOGOF6G\\grocery-test.tfrecord\n"
     ]
    },
    {
     "data": {
      "application/vnd.jupyter.widget-view+json": {
       "model_id": "4d7f20c5865244d5ba387c854190f800",
       "version_major": 2,
       "version_minor": 0
      },
      "text/plain": [
       "HBox(children=(FloatProgress(value=0.0, max=2485.0), HTML(value='')))"
      ]
     },
     "metadata": {},
     "output_type": "display_data"
    },
    {
     "data": {
      "application/vnd.jupyter.widget-view+json": {
       "model_id": "12e45561e1df47fc958304f66f4a58ce",
       "version_major": 2,
       "version_minor": 0
      },
      "text/plain": [
       "HBox(children=(FloatProgress(value=1.0, bar_style='info', layout=Layout(width='20px'), max=1.0), HTML(value=''…"
      ]
     },
     "metadata": {},
     "output_type": "display_data"
    },
    {
     "name": "stdout",
     "output_type": "stream",
     "text": [
      "Shuffling and writing examples to C:\\Users\\Lenovo\\tensorflow_datasets\\grocery\\0.1.0.incompleteOGOF6G\\grocery-validation.tfrecord\n"
     ]
    },
    {
     "data": {
      "application/vnd.jupyter.widget-view+json": {
       "model_id": "b5cab765dd61428a836ceee2822e6e0f",
       "version_major": 2,
       "version_minor": 0
      },
      "text/plain": [
       "HBox(children=(FloatProgress(value=0.0, max=296.0), HTML(value='')))"
      ]
     },
     "metadata": {},
     "output_type": "display_data"
    },
    {
     "name": "stdout",
     "output_type": "stream",
     "text": [
      "\u001b[1mDataset grocery downloaded and prepared to C:\\Users\\Lenovo\\tensorflow_datasets\\grocery\\0.1.0. Subsequent calls will reuse this data.\u001b[0m\n"
     ]
    }
   ],
   "source": [
    "builder.download_and_prepare(download_config=dl_config)"
   ]
  },
  {
   "cell_type": "code",
   "execution_count": 4,
   "metadata": {},
   "outputs": [],
   "source": [
    "train_dataset = builder.as_dataset(split=\"train\")"
   ]
  },
  {
   "cell_type": "code",
   "execution_count": 5,
   "metadata": {},
   "outputs": [
    {
     "data": {
      "text/plain": [
       "<PrefetchDataset shapes: {id: (), image: (None, None, 3), label: ()}, types: {id: tf.string, image: tf.uint8, label: tf.int64}>"
      ]
     },
     "execution_count": 5,
     "metadata": {},
     "output_type": "execute_result"
    }
   ],
   "source": [
    "train_dataset\n"
   ]
  },
  {
   "cell_type": "code",
   "execution_count": 6,
   "metadata": {},
   "outputs": [],
   "source": [
    "assert(isinstance(train_dataset, tf.data.Dataset))"
   ]
  },
  {
   "cell_type": "code",
   "execution_count": 10,
   "metadata": {},
   "outputs": [
    {
     "name": "stdout",
     "output_type": "stream",
     "text": [
      "Image Shape : (348, 348, 3)\n",
      "Label : 15\n",
      "Id : <built-in function id>\n",
      "--------------------------------------------\n",
      "Image Shape : (348, 348, 3)\n",
      "Label : 0\n",
      "Id : <built-in function id>\n",
      "--------------------------------------------\n",
      "Image Shape : (348, 348, 3)\n",
      "Label : 1\n",
      "Id : <built-in function id>\n",
      "--------------------------------------------\n",
      "Image Shape : (348, 348, 3)\n",
      "Label : 51\n",
      "Id : <built-in function id>\n",
      "--------------------------------------------\n",
      "Image Shape : (348, 348, 3)\n",
      "Label : 80\n",
      "Id : <built-in function id>\n",
      "--------------------------------------------\n"
     ]
    }
   ],
   "source": [
    "for a_train_example in train_dataset.take(5):\n",
    "    image,label = a_train_example[\"image\"],a_train_example[\"label\"]\n",
    "    print(f\"Image Shape : {image.shape}\")\n",
    "    print(f\"Label : {label.numpy()}\")\n",
    "    print(f\"Id : {id}\")\n",
    "    print(\"--------------------------------------------\")"
   ]
  },
  {
   "cell_type": "code",
   "execution_count": 12,
   "metadata": {},
   "outputs": [],
   "source": [
    "validation_dataset = builder.as_dataset(split=\"test\")"
   ]
  },
  {
   "cell_type": "code",
   "execution_count": 14,
   "metadata": {},
   "outputs": [
    {
     "name": "stdout",
     "output_type": "stream",
     "text": [
      "Image Shape : (348, 348, 3)\n",
      "Label : 33\n",
      "Id : <built-in function id>\n",
      "--------------------------------------------\n",
      "Image Shape : (348, 348, 3)\n",
      "Label : 8\n",
      "Id : <built-in function id>\n",
      "--------------------------------------------\n",
      "Image Shape : (464, 348, 3)\n",
      "Label : 10\n",
      "Id : <built-in function id>\n",
      "--------------------------------------------\n",
      "Image Shape : (348, 348, 3)\n",
      "Label : 62\n",
      "Id : <built-in function id>\n",
      "--------------------------------------------\n",
      "Image Shape : (464, 348, 3)\n",
      "Label : 13\n",
      "Id : <built-in function id>\n",
      "--------------------------------------------\n"
     ]
    }
   ],
   "source": [
    "for a_train_example in validation_dataset.take(5):\n",
    "    image,label = a_train_example[\"image\"],a_train_example[\"label\"]\n",
    "    print(f\"Image Shape : {image.shape}\")\n",
    "    print(f\"Label : {label.numpy()}\")\n",
    "    print(f\"Id : {id}\")\n",
    "    print(\"--------------------------------------------\")"
   ]
  },
  {
   "cell_type": "code",
   "execution_count": null,
   "metadata": {},
   "outputs": [],
   "source": []
  }
 ],
 "metadata": {
  "kernelspec": {
   "display_name": "Python 3",
   "language": "python",
   "name": "python3"
  },
  "language_info": {
   "codemirror_mode": {
    "name": "ipython",
    "version": 3
   },
   "file_extension": ".py",
   "mimetype": "text/x-python",
   "name": "python",
   "nbconvert_exporter": "python",
   "pygments_lexer": "ipython3",
   "version": "3.7.4"
  }
 },
 "nbformat": 4,
 "nbformat_minor": 4
}
